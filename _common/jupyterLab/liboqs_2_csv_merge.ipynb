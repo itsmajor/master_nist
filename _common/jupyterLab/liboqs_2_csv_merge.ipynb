{
 "cells": [
  {
   "cell_type": "markdown",
   "id": "d0719abd",
   "metadata": {},
   "source": [
    "# liboqs_2_csv_merge\n",
    "Dieses Notebook verarbeitet die vier *liboqs*-CSV-Dateien aus dem Verzeichnis `output/csv` und führt sie in einer einheitlichen Struktur zusammen."
   ]
  },
  {
   "cell_type": "code",
   "execution_count": 3,
   "id": "b3cb1a9e",
   "metadata": {},
   "outputs": [
    {
     "name": "stdout",
     "output_type": "stream",
     "text": [
      "Ausgabedatei erstellt: output/csv/liboqs_all.csv\n"
     ]
    }
   ],
   "source": [
    "import pandas as pd\n",
    "import numpy as np\n",
    "\n",
    "# 1. Verzeichnis mit den CSV-Dateien und Ausgabedatei\n",
    "csv_dir = 'output/csv'\n",
    "output_file = f\"{csv_dir}/liboqs_all.csv\"\n",
    "\n",
    "# 2. CSV-Dateien laden\n",
    "mem_kem = pd.read_csv(f\"{csv_dir}/liboqs_mem_kem.csv\")\n",
    "mem_sig = pd.read_csv(f\"{csv_dir}/liboqs_mem_sig.csv\")\n",
    "time_kem = pd.read_csv(f\"{csv_dir}/liboqs_time_kem.csv\")\n",
    "time_sig = pd.read_csv(f\"{csv_dir}/liboqs_time_sig.csv\")\n",
    "\n",
    "# Neue Dateien mit vollständigem Heap\n",
    "mem_kem_full = pd.read_csv(f\"{csv_dir}/liboqs_mem_kem_fullHeap.csv\")\n",
    "mem_sig_full = pd.read_csv(f\"{csv_dir}/liboqs_mem_sig_fullHeap.csv\")\n",
    "\n",
    "# 3. Zeiten von Millisekunden in Mikrosekunden umrechnen\n",
    "time_kem['keygen_time'] = time_kem['kem_keypair (ms)'] * 1000\n",
    "time_kem['encaps_time'] = time_kem['kem_enc (ms)']     * 1000\n",
    "time_kem['decaps_time'] = time_kem['kem_dec (ms)']     * 1000\n",
    "\n",
    "time_sig['keygen_time'] = time_sig['keypair (ms)']     * 1000\n",
    "time_sig['encaps_time'] = time_sig['sign (ms)']        * 1000\n",
    "time_sig['decaps_time'] = time_sig['verify (ms)']      * 1000\n",
    "\n",
    "# 4. Zeitdaten extrahieren und \"Typ\"-Spalte hinzufügen\n",
    "df_time_kem = time_kem.loc[:, ['Model', 'Algorithmus', 'keygen_time', 'encaps_time', 'decaps_time']].copy()\n",
    "df_time_kem.insert(2, 'Typ', 'kem')\n",
    "\n",
    "df_time_sig = time_sig.loc[:, ['Model', 'Algorithmus', 'keygen_time', 'encaps_time', 'decaps_time']].copy()\n",
    "df_time_sig.insert(2, 'Typ', 'sig')\n",
    "\n",
    "# 5. Speicherverbrauchsdaten zusammenführen\n",
    "mem_kem.insert(2, 'Typ', 'kem')\n",
    "mem_sig.insert(2, 'Typ', 'sig')\n",
    "mem = pd.concat([mem_kem, mem_sig], ignore_index=True)\n",
    "mem = mem.loc[:, ['Model', 'Algorithmus', 'Typ',\n",
    "                  'maxStack_key', 'maxStack_enc', 'maxStack_dec']].copy()\n",
    "mem.rename(columns={\n",
    "    'maxStack_key': 'stack_key',\n",
    "    'maxStack_enc': 'stack_enc',\n",
    "    'maxStack_dec': 'stack_dec'\n",
    "}, inplace=True)\n",
    "\n",
    "mem_kem_full.insert(2, 'Typ', 'kem')\n",
    "mem_sig_full.insert(2, 'Typ', 'sig')\n",
    "mem_heap = pd.concat([mem_kem_full, mem_sig_full], ignore_index=True)\n",
    "mem_heap = mem_heap.loc[:, ['Model', 'Algorithmus', 'Typ',\n",
    "                            'maxHeap_key', 'maxHeap_enc', 'maxHeap_dec']].copy()\n",
    "mem_heap.rename(columns={\n",
    "    'maxHeap_key':  'heap_key',\n",
    "    'maxHeap_enc':  'heap_enc',\n",
    "    'maxHeap_dec':  'heap_dec'\n",
    "}, inplace=True)\n",
    "\n",
    "# 6. Kombinieren von Heap- und Stack-Daten (inkl. Typ)\n",
    "mem_combined = pd.merge(mem_heap, mem, on=['Model', 'Algorithmus', 'Typ'], how='left')\n",
    "\n",
    "# 7. Zeitdaten zusammenführen\n",
    "df_time = pd.concat([df_time_kem, df_time_sig], ignore_index=True)\n",
    "\n",
    "# 8. Merge Zeit + Speicher (inkl. Typ)\n",
    "df_merged = pd.merge(df_time, mem_combined, on=['Model', 'Algorithmus', 'Typ'], how='left')\n",
    "\n",
    "# 9. Spalten neu anordnen\n",
    "column_order = [\n",
    "    'Model', 'Algorithmus', 'Typ',\n",
    "    'keygen_time', 'encaps_time', 'decaps_time',\n",
    "    'heap_key', 'heap_enc', 'heap_dec',\n",
    "    'stack_key', 'stack_enc', 'stack_dec'\n",
    "]\n",
    "df_merged = df_merged[column_order]\n",
    "\n",
    "# 10. Zeitspalten runden\n",
    "time_cols = ['keygen_time', 'encaps_time', 'decaps_time']\n",
    "for col in time_cols:\n",
    "    df_merged[col] = df_merged[col].round().astype(int)\n",
    "\n",
    "# 11. Speicherwerte runden\n",
    "mem_cols = [c for c in df_merged.columns if c not in ['Model', 'Algorithmus', 'Typ'] + time_cols]\n",
    "for col in mem_cols:\n",
    "    if pd.api.types.is_numeric_dtype(df_merged[col]):\n",
    "        df_merged[col] = df_merged[col].round(1)\n",
    "\n",
    "# 12. Ergebnis speichern\n",
    "df_merged.to_csv(output_file, index=False)\n",
    "print(f\"Ausgabedatei erstellt: {output_file}\")\n"
   ]
  },
  {
   "cell_type": "code",
   "execution_count": null,
   "id": "7c8681c4-01a8-4a48-85f8-50415fd87445",
   "metadata": {},
   "outputs": [],
   "source": []
  }
 ],
 "metadata": {
  "kernelspec": {
   "display_name": "Python 3 (ipykernel)",
   "language": "python",
   "name": "python3"
  },
  "language_info": {
   "codemirror_mode": {
    "name": "ipython",
    "version": 3
   },
   "file_extension": ".py",
   "mimetype": "text/x-python",
   "name": "python",
   "nbconvert_exporter": "python",
   "pygments_lexer": "ipython3",
   "version": "3.12.8"
  }
 },
 "nbformat": 4,
 "nbformat_minor": 5
}
