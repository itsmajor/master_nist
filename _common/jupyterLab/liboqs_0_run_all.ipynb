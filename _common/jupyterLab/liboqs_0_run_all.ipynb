{
 "cells": [
  {
   "cell_type": "code",
   "execution_count": 13,
   "id": "46526a27-e2dc-4363-a4f3-06d00f02ef6d",
   "metadata": {},
   "outputs": [
    {
     "name": "stdout",
     "output_type": "stream",
     "text": [
      "Running liboqs_1_mem_kem.ipynb...\n",
      "Finished liboqs_1_mem_kem.ipynb\n",
      "Running liboqs_1_mem_sig.ipynb...\n",
      "Finished liboqs_1_mem_sig.ipynb\n",
      "Running liboqs_1_mem_heap_kem.ipynb...\n",
      "Finished liboqs_1_mem_heap_kem.ipynb\n",
      "Running liboqs_1_mem_heap_sig.ipynb...\n",
      "Finished liboqs_1_mem_heap_sig.ipynb\n",
      "Running liboqs_1_time_kem.ipynb...\n",
      "Finished liboqs_1_time_kem.ipynb\n",
      "Running liboqs_1_time_sig.ipynb...\n",
      "Finished liboqs_1_time_sig.ipynb\n",
      "Running liboqs_2_csv_merge.ipynb...\n",
      "Finished liboqs_2_csv_merge.ipynb\n",
      "Running liboqs_3_csv2xlsx+cut+scale.ipynb...\n",
      "Finished liboqs_3_csv2xlsx+cut+scale.ipynb\n",
      "\n",
      "Finished liboqs_0_run_all\n"
     ]
    }
   ],
   "source": [
    "import nbformat\n",
    "from nbclient import NotebookClient\n",
    "\n",
    "notebooks = [\n",
    "    \"liboqs_1_mem_kem.ipynb\",\n",
    "    \"liboqs_1_mem_sig.ipynb\",\n",
    "    \"liboqs_1_mem_heap_kem.ipynb\",\n",
    "    \"liboqs_1_mem_heap_sig.ipynb\",\n",
    "    \"liboqs_1_time_kem.ipynb\",\n",
    "    \"liboqs_1_time_sig.ipynb\",\n",
    "    \"liboqs_2_csv_merge.ipynb\",\n",
    "    \"liboqs_3_csv2xlsx+cut+scale.ipynb\",\n",
    "    \"all_postprocessing_0.ipynb\"\n",
    "]\n",
    "\n",
    "for nb_file in notebooks:\n",
    "    print(f\"Running {nb_file}...\")\n",
    "    nb = nbformat.read(nb_file, as_version=4)\n",
    "    client = NotebookClient(nb, timeout=600, kernel_name='python3')\n",
    "    client.execute()\n",
    "    print(f\"Finished {nb_file}\")\n",
    "\n",
    "print(f\"\\nFinished liboqs_0_run_all\")"
   ]
  },
  {
   "cell_type": "code",
   "execution_count": null,
   "id": "107bdcc0-9cd9-41e9-a938-bec6946d9312",
   "metadata": {},
   "outputs": [],
   "source": []
  }
 ],
 "metadata": {
  "kernelspec": {
   "display_name": "Python 3 (ipykernel)",
   "language": "python",
   "name": "python3"
  },
  "language_info": {
   "codemirror_mode": {
    "name": "ipython",
    "version": 3
   },
   "file_extension": ".py",
   "mimetype": "text/x-python",
   "name": "python",
   "nbconvert_exporter": "python",
   "pygments_lexer": "ipython3",
   "version": "3.12.8"
  }
 },
 "nbformat": 4,
 "nbformat_minor": 5
}
