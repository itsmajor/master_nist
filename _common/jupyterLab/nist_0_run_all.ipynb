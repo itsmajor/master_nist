{
 "cells": [
  {
   "cell_type": "code",
   "execution_count": 2,
   "id": "46526a27-e2dc-4363-a4f3-06d00f02ef6d",
   "metadata": {},
   "outputs": [
    {
     "name": "stdout",
     "output_type": "stream",
     "text": [
      "Running nist_1_mem.ipynb...\n",
      "Finished nist_1_mem.ipynb\n",
      "Running nist_1_time_kem.ipynb...\n",
      "Finished nist_1_time_kem.ipynb\n",
      "Running nist_1_time_sig.ipynb...\n",
      "Finished nist_1_time_sig.ipynb\n",
      "Running nist_2_csv_merge.ipynb...\n",
      "Finished nist_2_csv_merge.ipynb\n",
      "Running nist_3_csv2xlsx+combined.ipynb...\n",
      "Finished nist_3_csv2xlsx+combined.ipynb\n",
      "Running nist_3_csv2xlsx+cut.ipynb...\n",
      "Finished nist_3_csv2xlsx+cut.ipynb\n",
      "Running nist_3_csv2xlsx+cut+scale.ipynb...\n",
      "Finished nist_3_csv2xlsx+cut+scale.ipynb\n",
      "Running nist_4_csv2xlsx+cut+scale-Picnic.ipynb...\n",
      "Finished nist_4_csv2xlsx+cut+scale-Picnic.ipynb\n",
      "Running all_postprocessing_0.ipynb...\n",
      "Finished all_postprocessing_0.ipynb\n",
      "\n",
      "Finished nist_0_run_all\n"
     ]
    }
   ],
   "source": [
    "import nbformat\n",
    "from nbclient import NotebookClient\n",
    "\n",
    "notebooks = [\n",
    "    \"nist_1_mem.ipynb\",\n",
    "    \"nist_1_time_kem.ipynb\",\n",
    "    \"nist_1_time_sig.ipynb\",\n",
    "    \"nist_2_csv_merge.ipynb\",\n",
    "    \"nist_3_csv2xlsx+combined.ipynb\",\n",
    "    \"nist_3_csv2xlsx+cut.ipynb\",\n",
    "    \"nist_3_csv2xlsx+cut+scale.ipynb\",\n",
    "    \"nist_4_csv2xlsx+cut+scale-Picnic.ipynb\",\n",
    "    \"all_postprocessing_0.ipynb\"\n",
    "]\n",
    "\n",
    "for nb_file in notebooks:\n",
    "    print(f\"Running {nb_file}...\")\n",
    "    nb = nbformat.read(nb_file, as_version=4)\n",
    "    client = NotebookClient(nb, timeout=600, kernel_name='python3')\n",
    "    client.execute()\n",
    "    print(f\"Finished {nb_file}\")\n",
    "\n",
    "print(f\"\\nFinished nist_0_run_all\")"
   ]
  },
  {
   "cell_type": "code",
   "execution_count": null,
   "id": "d58a92fc-b72a-4ed9-9ed2-1d254aed4eeb",
   "metadata": {},
   "outputs": [],
   "source": []
  }
 ],
 "metadata": {
  "kernelspec": {
   "display_name": "Python 3 (ipykernel)",
   "language": "python",
   "name": "python3"
  },
  "language_info": {
   "codemirror_mode": {
    "name": "ipython",
    "version": 3
   },
   "file_extension": ".py",
   "mimetype": "text/x-python",
   "name": "python",
   "nbconvert_exporter": "python",
   "pygments_lexer": "ipython3",
   "version": "3.12.8"
  }
 },
 "nbformat": 4,
 "nbformat_minor": 5
}
