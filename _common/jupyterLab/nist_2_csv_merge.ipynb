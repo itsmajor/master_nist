{
 "cells": [
  {
   "cell_type": "code",
   "execution_count": 4,
   "id": "9e6ec0bd-1ce7-4b97-b1dc-78b84bc9adf6",
   "metadata": {},
   "outputs": [
    {
     "name": "stdout",
     "output_type": "stream",
     "text": [
      "Ergebnis in output/csv\\nist_all.csv gespeichert.\n"
     ]
    }
   ],
   "source": [
    "#!/usr/bin/env python3\n",
    "import os\n",
    "import pandas as pd\n",
    "\n",
    "# 1. Verzeichnis mit den CSV-Dateien\n",
    "csv_dir = 'output/csv'\n",
    "\n",
    "# 2. Pfade zu den einzelnen Dateien\n",
    "mem_file    = os.path.join(csv_dir, 'nist_mem.csv')\n",
    "kem_file    = os.path.join(csv_dir, 'nist_time_kem.csv')\n",
    "sig_file    = os.path.join(csv_dir, 'nist_time_sig.csv')\n",
    "output_file = os.path.join(csv_dir, 'nist_all.csv')\n",
    "\n",
    "# 3. Einlesen der CSV-Dateien\n",
    "mem_df = pd.read_csv(mem_file)\n",
    "kem_df = pd.read_csv(kem_file)\n",
    "sig_df = pd.read_csv(sig_file)\n",
    "\n",
    "# 4. Spaltennamen vereinheitlichen\n",
    "kem_df = kem_df.rename(columns={\n",
    "    'keypair (μs)': 'keygen_time',\n",
    "    'enc (μs)':     'enc_time',\n",
    "    'dec (μs)':     'dec_time'\n",
    "})\n",
    "sig_df = sig_df.rename(columns={\n",
    "    'keypair (μs)': 'keygen_time',\n",
    "    'sign (μs)':    'enc_time',\n",
    "    'verify (μs)':  'dec_time'\n",
    "})\n",
    "\n",
    "# 5. Typ-Spalte hinzufügen\n",
    "kem_df['Typ'] = 'kem'\n",
    "sig_df['Typ'] = 'sig'\n",
    "\n",
    "# 6. Zusammenführen der Zeitdaten\n",
    "time_df = pd.concat([kem_df, sig_df], ignore_index=True)\n",
    "\n",
    "# 7. Runden-Spalte als Integer formatieren\n",
    "time_df['Runden'] = time_df['Runden'].astype(float).astype(int)\n",
    "\n",
    "# 8. Spaltenauswahl inkl. Typ (Typ an dritter Stelle)\n",
    "time_df = time_df[['Model', 'Algorithmus', 'Typ', 'Runden', 'keygen_time', 'enc_time', 'dec_time']]\n",
    "\n",
    "# 9. Merge mit den Memory-Daten\n",
    "final_df = pd.merge(mem_df, time_df, on=['Model', 'Algorithmus'], how='left')\n",
    "\n",
    "# 10. Zeilen mit fehlenden Zeitwerten entfernen (prüfen auf keygen_time)\n",
    "final_df = final_df.dropna(subset=['keygen_time'])\n",
    "\n",
    "# 11. Spaltenreihenfolge sicherstellen (Typ und Runden als 3. und 4. Spalte)\n",
    "cols = ['Model', 'Algorithmus', 'Typ', 'Runden'] + [c for c in final_df.columns if c not in ('Model', 'Algorithmus', 'Typ', 'Runden')]\n",
    "final_df = final_df[cols]\n",
    "\n",
    "# 12. Speichern der kombinierten CSV (Runden als ganze Zahl schreiben)\n",
    "if not os.path.isdir(csv_dir):\n",
    "    os.makedirs(csv_dir, exist_ok=True)\n",
    "final_df.to_csv(output_file, index=False)\n",
    "print(f\"Ergebnis in {output_file} gespeichert.\")\n"
   ]
  },
  {
   "cell_type": "code",
   "execution_count": null,
   "id": "5f79dba1-0560-43a8-b354-74d346e584a1",
   "metadata": {},
   "outputs": [],
   "source": []
  }
 ],
 "metadata": {
  "kernelspec": {
   "display_name": "Python 3 (ipykernel)",
   "language": "python",
   "name": "python3"
  },
  "language_info": {
   "codemirror_mode": {
    "name": "ipython",
    "version": 3
   },
   "file_extension": ".py",
   "mimetype": "text/x-python",
   "name": "python",
   "nbconvert_exporter": "python",
   "pygments_lexer": "ipython3",
   "version": "3.12.8"
  }
 },
 "nbformat": 4,
 "nbformat_minor": 5
}
